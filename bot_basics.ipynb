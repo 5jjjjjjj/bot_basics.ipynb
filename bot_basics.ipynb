{
  "nbformat": 4,
  "nbformat_minor": 0,
  "metadata": {
    "colab": {
      "provenance": [],
      "authorship_tag": "ABX9TyN+ovlRbkbOYexzwwe9D45Y",
      "include_colab_link": true
    },
    "kernelspec": {
      "name": "python3",
      "display_name": "Python 3"
    },
    "language_info": {
      "name": "python"
    }
  },
  "cells": [
    {
      "cell_type": "markdown",
      "metadata": {
        "id": "view-in-github",
        "colab_type": "text"
      },
      "source": [
        "<a href=\"https://colab.research.google.com/github/5jjjjjjj/bot_basics.ipynb/blob/main/bot_basics.ipynb\" target=\"_parent\"><img src=\"https://colab.research.google.com/assets/colab-badge.svg\" alt=\"Open In Colab\"/></a>"
      ]
    },
    {
      "cell_type": "code",
      "source": [
        "!pip install python-dotenv\n",
        "!pip install discord\n",
        "!pip install requests\n",
        "!apt install json\n",
        "!pip install discord.py\n",
        "!apt install random"
      ],
      "metadata": {
        "colab": {
          "base_uri": "https://localhost:8080/"
        },
        "id": "_FnMna0zwHhs",
        "outputId": "6309a5b9-2450-46a1-b68a-cb6c64f6a935"
      },
      "execution_count": null,
      "outputs": [
        {
          "output_type": "stream",
          "name": "stdout",
          "text": [
            "Requirement already satisfied: python-dotenv in /usr/local/lib/python3.12/dist-packages (1.1.1)\n",
            "Requirement already satisfied: discord in /usr/local/lib/python3.12/dist-packages (2.3.2)\n",
            "Requirement already satisfied: discord.py>=2.3.2 in /usr/local/lib/python3.12/dist-packages (from discord) (2.6.0)\n",
            "Requirement already satisfied: aiohttp<4,>=3.7.4 in /usr/local/lib/python3.12/dist-packages (from discord.py>=2.3.2->discord) (3.12.15)\n",
            "Requirement already satisfied: aiohappyeyeballs>=2.5.0 in /usr/local/lib/python3.12/dist-packages (from aiohttp<4,>=3.7.4->discord.py>=2.3.2->discord) (2.6.1)\n",
            "Requirement already satisfied: aiosignal>=1.4.0 in /usr/local/lib/python3.12/dist-packages (from aiohttp<4,>=3.7.4->discord.py>=2.3.2->discord) (1.4.0)\n",
            "Requirement already satisfied: attrs>=17.3.0 in /usr/local/lib/python3.12/dist-packages (from aiohttp<4,>=3.7.4->discord.py>=2.3.2->discord) (25.3.0)\n",
            "Requirement already satisfied: frozenlist>=1.1.1 in /usr/local/lib/python3.12/dist-packages (from aiohttp<4,>=3.7.4->discord.py>=2.3.2->discord) (1.7.0)\n",
            "Requirement already satisfied: multidict<7.0,>=4.5 in /usr/local/lib/python3.12/dist-packages (from aiohttp<4,>=3.7.4->discord.py>=2.3.2->discord) (6.6.4)\n",
            "Requirement already satisfied: propcache>=0.2.0 in /usr/local/lib/python3.12/dist-packages (from aiohttp<4,>=3.7.4->discord.py>=2.3.2->discord) (0.3.2)\n",
            "Requirement already satisfied: yarl<2.0,>=1.17.0 in /usr/local/lib/python3.12/dist-packages (from aiohttp<4,>=3.7.4->discord.py>=2.3.2->discord) (1.20.1)\n",
            "Requirement already satisfied: typing-extensions>=4.2 in /usr/local/lib/python3.12/dist-packages (from aiosignal>=1.4.0->aiohttp<4,>=3.7.4->discord.py>=2.3.2->discord) (4.14.1)\n",
            "Requirement already satisfied: idna>=2.0 in /usr/local/lib/python3.12/dist-packages (from yarl<2.0,>=1.17.0->aiohttp<4,>=3.7.4->discord.py>=2.3.2->discord) (3.10)\n",
            "Requirement already satisfied: requests in /usr/local/lib/python3.12/dist-packages (2.32.4)\n",
            "Requirement already satisfied: charset_normalizer<4,>=2 in /usr/local/lib/python3.12/dist-packages (from requests) (3.4.3)\n",
            "Requirement already satisfied: idna<4,>=2.5 in /usr/local/lib/python3.12/dist-packages (from requests) (3.10)\n",
            "Requirement already satisfied: urllib3<3,>=1.21.1 in /usr/local/lib/python3.12/dist-packages (from requests) (2.5.0)\n",
            "Requirement already satisfied: certifi>=2017.4.17 in /usr/local/lib/python3.12/dist-packages (from requests) (2025.8.3)\n",
            "Reading package lists... Done\n",
            "Building dependency tree... Done\n",
            "Reading state information... Done\n",
            "\u001b[1;31mE: \u001b[0mUnable to locate package json\u001b[0m\n",
            "Requirement already satisfied: discord.py in /usr/local/lib/python3.12/dist-packages (2.6.0)\n",
            "Requirement already satisfied: aiohttp<4,>=3.7.4 in /usr/local/lib/python3.12/dist-packages (from discord.py) (3.12.15)\n",
            "Requirement already satisfied: aiohappyeyeballs>=2.5.0 in /usr/local/lib/python3.12/dist-packages (from aiohttp<4,>=3.7.4->discord.py) (2.6.1)\n",
            "Requirement already satisfied: aiosignal>=1.4.0 in /usr/local/lib/python3.12/dist-packages (from aiohttp<4,>=3.7.4->discord.py) (1.4.0)\n",
            "Requirement already satisfied: attrs>=17.3.0 in /usr/local/lib/python3.12/dist-packages (from aiohttp<4,>=3.7.4->discord.py) (25.3.0)\n",
            "Requirement already satisfied: frozenlist>=1.1.1 in /usr/local/lib/python3.12/dist-packages (from aiohttp<4,>=3.7.4->discord.py) (1.7.0)\n",
            "Requirement already satisfied: multidict<7.0,>=4.5 in /usr/local/lib/python3.12/dist-packages (from aiohttp<4,>=3.7.4->discord.py) (6.6.4)\n",
            "Requirement already satisfied: propcache>=0.2.0 in /usr/local/lib/python3.12/dist-packages (from aiohttp<4,>=3.7.4->discord.py) (0.3.2)\n",
            "Requirement already satisfied: yarl<2.0,>=1.17.0 in /usr/local/lib/python3.12/dist-packages (from aiohttp<4,>=3.7.4->discord.py) (1.20.1)\n",
            "Requirement already satisfied: typing-extensions>=4.2 in /usr/local/lib/python3.12/dist-packages (from aiosignal>=1.4.0->aiohttp<4,>=3.7.4->discord.py) (4.14.1)\n",
            "Requirement already satisfied: idna>=2.0 in /usr/local/lib/python3.12/dist-packages (from yarl<2.0,>=1.17.0->aiohttp<4,>=3.7.4->discord.py) (3.10)\n",
            "Reading package lists... Done\n",
            "Building dependency tree... Done\n",
            "Reading state information... Done\n",
            "\u001b[1;31mE: \u001b[0mUnable to locate package random\u001b[0m\n"
          ]
        }
      ]
    },
    {
      "cell_type": "markdown",
      "source": [
        "# Nová sekce"
      ],
      "metadata": {
        "id": "mwTNw7oKE3G6"
      }
    },
    {
      "cell_type": "code",
      "execution_count": null,
      "metadata": {
        "id": "OJuAgmG8tvGC"
      },
      "outputs": [],
      "source": [
        "import os\n",
        "import requests\n",
        "import json\n",
        "import discord\n",
        "import random\n",
        "from discord.ext import commands # Corrected import\n",
        "from dotenv import load_dotenv\n",
        "# Removed duplicate import: from discord.ext import commands"
      ]
    },
    {
      "cell_type": "code",
      "metadata": {
        "id": "b810a60f"
      },
      "source": [
        "# Load environment variables from .env file\n",
        "load_dotenv()\n",
        "TOKEN = os.getenv('DISCORD_TOKEN')\n",
        "\n",
        "# Define bot intents\n",
        "intents = discord.Intents.default()\n",
        "intents.message_content = True  # Enable the message_content intent\n",
        "\n",
        "# Create a bot instance\n",
        "bot = commands.Bot(command_prefix='!', intents=intents)\n",
        "\n",
        "# Event: When the bot is ready\n",
        "@bot.event\n",
        "async def on_ready():\n",
        "    print(f'{bot.user.name} has connected to Discord!')\n",
        "\n",
        "# Command: Basic hello command\n",
        "@bot.command(name='hello')\n",
        "async def hello(ctx):\n",
        "    \"\"\"Responds with a greeting.\"\"\"\n",
        "    await ctx.send('Hello!')\n",
        "\n",
        "# Run the bot (replace with your actual token)\n",
        "bot.run(\"YOUR_BOT_TOKEN_HERE\")"
      ],
      "execution_count": null,
      "outputs": []
    },
    {
      "cell_type": "markdown",
      "metadata": {
        "id": "f6cfac03"
      },
      "source": [
        "Remember to replace `\"YOUR_BOT_TOKEN_HERE\"` with `os.getenv('DISCORD_TOKEN')` and add your bot token to a `.env` file."
      ]
    }
  ]
}